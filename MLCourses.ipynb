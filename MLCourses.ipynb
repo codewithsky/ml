{
 "cells": [
  {
   "cell_type": "markdown",
   "metadata": {
    "ExecuteTime": {
     "end_time": "2021-06-19T08:16:52.392354Z",
     "start_time": "2021-06-19T08:16:52.386365Z"
    }
   },
   "source": [
    "Notebook contains ML related course names and their links."
   ]
  },
  {
   "cell_type": "markdown",
   "metadata": {
    "heading_collapsed": true
   },
   "source": [
    "### numpy:\n",
    "\n",
    "https://numpy.org/\n",
    "    "
   ]
  },
  {
   "cell_type": "markdown",
   "metadata": {},
   "source": [
    "### pandas:\n",
    "\n",
    "https://pandas.pydata.org/pandas-docs/stable/index.html"
   ]
  },
  {
   "cell_type": "markdown",
   "metadata": {},
   "source": [
    "### matplotlib:\n",
    "\n",
    "https://matplotlib.org/"
   ]
  },
  {
   "cell_type": "markdown",
   "metadata": {},
   "source": [
    "### seaborn:\n",
    "\n",
    "https://seaborn.pydata.org/ "
   ]
  },
  {
   "cell_type": "markdown",
   "metadata": {},
   "source": [
    "### scikit -learn\n",
    "\n",
    "https://scikit-learn.org/stable/index.html\n",
    "\n",
    "\n",
    "### scikit-learn MOOC:\n",
    "\n",
    "https://www.fun-mooc.fr/en/courses/machine-learning-python-scikit-learn/"
   ]
  },
  {
   "cell_type": "markdown",
   "metadata": {},
   "source": [
    "### Beautiful Soup:\n",
    "\n",
    "https://www.crummy.com/software/BeautifulSoup/bs4/doc/"
   ]
  },
  {
   "cell_type": "markdown",
   "metadata": {},
   "source": [
    "### statsmodel:\n",
    "\n",
    "https://www.statsmodels.org/stable/index.html"
   ]
  },
  {
   "cell_type": "markdown",
   "metadata": {},
   "source": [
    "### bokeh:\n",
    "\n",
    "https://docs.bokeh.org/en/latest/index.html"
   ]
  },
  {
   "cell_type": "markdown",
   "metadata": {},
   "source": [
    "### plotly:\n",
    "\n",
    "https://plotly.com/python/"
   ]
  },
  {
   "cell_type": "markdown",
   "metadata": {},
   "source": [
    "### TensorBoard:\n",
    "\n",
    "https://www.tensorflow.org/tensorboard/get_started "
   ]
  },
  {
   "cell_type": "markdown",
   "metadata": {},
   "source": [
    "### foursquare:\n",
    "\n",
    "https://foursquare.com/developers/login?continue=%2Fdevelopers%2Fapps%2FWCQ2MDKNAE54ZSUE1JOGPSH2JW444BX2YQYQEI4ELWXUNJRA"
   ]
  },
  {
   "cell_type": "markdown",
   "metadata": {},
   "source": [
    "### machinelearningmastery:\n",
    "\n",
    "https://machinelearningmastery.com/start-here/"
   ]
  },
  {
   "cell_type": "markdown",
   "metadata": {},
   "source": [
    "### Mastering you Data Science Notebook Flow:\n",
    "\n",
    "https://www.kaggle.com/getting-started/240537"
   ]
  },
  {
   "cell_type": "code",
   "execution_count": null,
   "metadata": {},
   "outputs": [],
   "source": []
  }
 ],
 "metadata": {
  "kernelspec": {
   "display_name": "conda3.8",
   "language": "python",
   "name": "conda3.8"
  },
  "language_info": {
   "codemirror_mode": {
    "name": "ipython",
    "version": 3
   },
   "file_extension": ".py",
   "mimetype": "text/x-python",
   "name": "python",
   "nbconvert_exporter": "python",
   "pygments_lexer": "ipython3",
   "version": "3.7.6"
  },
  "varInspector": {
   "cols": {
    "lenName": 16,
    "lenType": 16,
    "lenVar": 40
   },
   "kernels_config": {
    "python": {
     "delete_cmd_postfix": "",
     "delete_cmd_prefix": "del ",
     "library": "var_list.py",
     "varRefreshCmd": "print(var_dic_list())"
    },
    "r": {
     "delete_cmd_postfix": ") ",
     "delete_cmd_prefix": "rm(",
     "library": "var_list.r",
     "varRefreshCmd": "cat(var_dic_list()) "
    }
   },
   "types_to_exclude": [
    "module",
    "function",
    "builtin_function_or_method",
    "instance",
    "_Feature"
   ],
   "window_display": false
  }
 },
 "nbformat": 4,
 "nbformat_minor": 4
}
