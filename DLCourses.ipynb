{
 "cells": [
  {
   "cell_type": "markdown",
   "metadata": {},
   "source": [
    "Notebook contains DL related course names and their links."
   ]
  },
  {
   "cell_type": "markdown",
   "metadata": {},
   "source": [
    "### deeplearningbook:\n",
    "\n",
    "https://www.deeplearningbook.org/"
   ]
  },
  {
   "cell_type": "markdown",
   "metadata": {},
   "source": [
    "### Dive into Deep Learning:\n",
    "\n",
    "https://d2l.ai/"
   ]
  },
  {
   "cell_type": "markdown",
   "metadata": {},
   "source": [
    "### MIT:\n",
    "\n",
    "https://openlearninglibrary.mit.edu/courses/course-v1:MITx+6.036+1T2019/course/"
   ]
  },
  {
   "cell_type": "markdown",
   "metadata": {},
   "source": [
    "### TensorFlow Hub:\n",
    "\n",
    "https://tfhub.dev/?utm_source=google-io21&utm_medium=referral&utm_campaign=io21-resources\n",
    "\n",
    "\n",
    "### TensorFlow Hub Tutorials:\n",
    "\n",
    "https://www.tensorflow.org/hub/tutorials?utm_source=google-io21&utm_medium=referral&utm_campaign=io21-resources"
   ]
  },
  {
   "cell_type": "markdown",
   "metadata": {},
   "source": [
    "### fastai:\n",
    "\n",
    "https://www.fast.ai/\n",
    "\n",
    "https://docs.fast.ai/ "
   ]
  },
  {
   "cell_type": "markdown",
   "metadata": {},
   "source": [
    "### Introduction to Deep Learning:\n",
    "\n",
    "http://introtodeeplearning.com/"
   ]
  },
  {
   "cell_type": "markdown",
   "metadata": {},
   "source": [
    "### MIT Deep Learning and Artificial Intelligence Lectures:\n",
    "\n",
    "https://deeplearning.mit.edu/"
   ]
  },
  {
   "cell_type": "markdown",
   "metadata": {},
   "source": [
    "### TensorFlow, Keras and deep learning, without a PhD:\n",
    "\n",
    "https://codelabs.developers.google.com/codelabs/cloud-tensorflow-mnist/#0"
   ]
  },
  {
   "cell_type": "markdown",
   "metadata": {},
   "source": [
    "### Deep Learning: LeCun:\n",
    "\n",
    "https://atcold.github.io/pytorch-Deep-Learning/"
   ]
  },
  {
   "cell_type": "markdown",
   "metadata": {},
   "source": [
    "### Adversarial images and attacks with Keras and TensorFlow:\n",
    "\n",
    "https://www.pyimagesearch.com/2020/10/19/adversarial-images-and-attacks-with-keras-and-tensorflow/#pyi-pyimagesearch-plus-optin-modal"
   ]
  },
  {
   "cell_type": "markdown",
   "metadata": {},
   "source": [
    "### Natural Language Processing with Python:\n",
    "\n",
    "https://www.pitt.edu/~naraehan/ling1330/nltk_book.html"
   ]
  },
  {
   "cell_type": "markdown",
   "metadata": {},
   "source": [
    "### Deep Learning with PyTorch: Zero to GANs\n",
    "\n",
    "https://jovian.ai/learn/deep-learning-with-pytorch-zero-to-gans"
   ]
  }
 ],
 "metadata": {
  "kernelspec": {
   "display_name": "conda3.8",
   "language": "python",
   "name": "conda3.8"
  },
  "language_info": {
   "codemirror_mode": {
    "name": "ipython",
    "version": 3
   },
   "file_extension": ".py",
   "mimetype": "text/x-python",
   "name": "python",
   "nbconvert_exporter": "python",
   "pygments_lexer": "ipython3",
   "version": "3.7.6"
  },
  "varInspector": {
   "cols": {
    "lenName": 16,
    "lenType": 16,
    "lenVar": 40
   },
   "kernels_config": {
    "python": {
     "delete_cmd_postfix": "",
     "delete_cmd_prefix": "del ",
     "library": "var_list.py",
     "varRefreshCmd": "print(var_dic_list())"
    },
    "r": {
     "delete_cmd_postfix": ") ",
     "delete_cmd_prefix": "rm(",
     "library": "var_list.r",
     "varRefreshCmd": "cat(var_dic_list()) "
    }
   },
   "types_to_exclude": [
    "module",
    "function",
    "builtin_function_or_method",
    "instance",
    "_Feature"
   ],
   "window_display": false
  }
 },
 "nbformat": 4,
 "nbformat_minor": 4
}
